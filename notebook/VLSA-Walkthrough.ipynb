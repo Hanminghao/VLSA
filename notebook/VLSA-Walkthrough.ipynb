{
 "cells": [
  {
   "cell_type": "markdown",
   "id": "0af4bf16-dc62-40d1-9d4b-0526fe0e7e3a",
   "metadata": {},
   "source": [
    "## VLSA Walkthrough\n",
    "\n",
    "This notebook provides you the detail of \n",
    "- individual **incidence function prediction** in VLSA models;\n",
    "- and the **prediction interpretation** (reproducing Figure 2, the left one) using our Shapley values-based method."
   ]
  },
  {
   "cell_type": "code",
   "execution_count": 1,
   "id": "139e3c9d-2fa2-4bf1-9ca1-a110008dc8f1",
   "metadata": {},
   "outputs": [
    {
     "data": {
      "text/plain": [
       "'/home/liup/repo/VLSA'"
      ]
     },
     "execution_count": 1,
     "metadata": {},
     "output_type": "execute_result"
    }
   ],
   "source": [
    "import os\n",
    "import os.path as osp\n",
    "os.chdir(\"../\")\n",
    "os.getcwd()"
   ]
  },
  {
   "cell_type": "markdown",
   "id": "8ab50085-6d4a-4109-88cb-0da558fe6f24",
   "metadata": {},
   "source": [
    "Specify the path to\n",
    "- the VLSA model trained on `BLCA` training samples (see `./assert/blca-train-VLSA`)\n",
    "- the patch features of a WSI sample (extracted by `CONCH`; stored in `./assert/blca-test-WSI-TCGA-XF-A9ST.pth`)"
   ]
  },
  {
   "cell_type": "code",
   "execution_count": 2,
   "id": "6a2a6c33-fd2f-49c0-9d94-892a7ba51d31",
   "metadata": {},
   "outputs": [],
   "source": [
    "CUDA_ID = 0\n",
    "run_path = \"./assert/blca-train-VLSA\" # the VLSA model fitted on BLCA training samples\n",
    "path_wsi = \"./assert/blca-test-WSI-TCGA-XF-A9ST.pt\" # wsi patch features"
   ]
  },
  {
   "cell_type": "markdown",
   "id": "50f5783e-5fbb-4b03-aea8-e548473df327",
   "metadata": {},
   "source": [
    "### Load the model and the test sample"
   ]
  },
  {
   "cell_type": "markdown",
   "id": "872b865b-f254-44ec-b3e0-7424c226328c",
   "metadata": {},
   "source": [
    "Here we load \n",
    "- the patch features of the WSI sample\n",
    "- the VLSA model, consisting of \n",
    "  - the visual and textual encoders of `CONCH` (please download it from [huggingface](https://huggingface.co/MahmoodLab/CONCH) and place it at `{path_clip_model}/mahmoodlab/conch`; `{path_clip_model}` shown be specified in `./assert/blca-train-VLSA/config.yaml`.)\n",
    "  - the trained parameters of `VLSA` (provided in `./assert/blca-train-VLSA`; yes, it is only with a few learnable parameters)."
   ]
  },
  {
   "cell_type": "code",
   "execution_count": 3,
   "id": "c939b215-df1d-4b60-bf64-1f215dd1d24a",
   "metadata": {},
   "outputs": [
    {
     "name": "stdout",
     "output_type": "stream",
     "text": [
      "[SurvIFMLE] initialized a SurvIFMLE loss with reduction = mean.\n",
      "[SurvIFMLE] initialized a SurvIFMLE loss with reduction = mean.\n",
      "\n",
      "Loaded the patch features of one WSI: 2798 x 512.\n",
      "\n",
      "[Model CFG] loaded config from ./assert/blca-train-VLSA/config.yaml\n",
      "[VLSA-UNI] Found additional kwargs: {'vlsa_api': 'CONCH', 'path_clip_model': '/NAS02/Others/pretrained-models'}.\n",
      "[Tokenizer] CONCH Tokenizer runs with built-in functions.\n",
      "[VL model loading] Building VL model with CONCH API...\n",
      "[VL model loading] Text backbone : mahmoodlab/conch.\n"
     ]
    },
    {
     "name": "stderr",
     "output_type": "stream",
     "text": [
      "/opt/conda/lib/python3.8/site-packages/transformers/tokenization_utils_base.py:1601: FutureWarning: `clean_up_tokenization_spaces` was not set. It will be set to `True` by default. This behavior will be depracted in transformers v4.45, and will be then set to `False` by default. For more details check this issue: https://github.com/huggingface/transformers/issues/31884\n",
      "  warnings.warn(\n"
     ]
    },
    {
     "name": "stdout",
     "output_type": "stream",
     "text": [
      "[VL model loading] MIL backbone: VLFAN\n",
      "[LVFAN] got Text for query_type; please call `reset_query` later to reset it.\n",
      "[LVFAN] nn.Linear is used in the end projection.\n",
      "[VLFAN] warning: use a simple Cross-Attention Layer.\n",
      "[VL model loading] Try VLFAN with arguments: {'dim_hid': 256, 'dim_in': 512, 'dim_reduction': 4, 'drop_rate': 0.25, 'frozen': False, 'gated_query': False, 'keep_ratio': 0.8, 'name': 'VLFAN', 'num_query': 12, 'pred_head': 'default', 'query': 'Text', 'query_pooling': 'mean', 'query_text_dim_reduction': 4, 'query_text_keep_ratio': 0.8, 'query_text_load_idx': 'tcga_blca_0', 'query_text_load_path': 'tools/survival_text_prototypes.json', 'query_text_method': 'TaskRes', 'query_text_res_ratio': 0.5, 'use_feat_proj': False}.\n",
      "[RankPromptLearner] Found irrelevant kwargs: {'ckpt': None, 'frozen_context_embeds': False, 'frozen_rank_embeds': False, 'method': 'rank', 'name': 'CoOp', 'pretrained': False}.\n",
      "[RankPromptLearner] loaded initial context (a histopathology image suggesting) and rank names (['a very poor prognosis', 'a poor prognosis', 'a good prognosis', 'a very good prognosis']) from tools/survival_prompts.json.\n",
      "[PlainPromptLearner] init context token...\n",
      "[PlainPromptLearner] init context: a histopathology image suggesting\n",
      "[PlainPromptLearner] num_context_tokens: 8 -> 4\n",
      "[PlainPromptLearner] rank_specific_context: False\n",
      "[PlainPromptLearner] final rank names: ['a very poor prognosis', 'a poor prognosis', 'a good prognosis', 'a very good prognosis'].\n",
      "[PlainPromptLearner] num_tokens_per_rank: [4, 4, 4, 4] -> [4, 3, 3, 4].\n",
      "[RankPromptLearner] `num_tokens_per_rank (base -> final)`: [4, 3, 3, 4] -> [4, 4, 4, 4, 4, 4, 4, 4, 4, 4, 4, 4].\n",
      "[RankPromptLearner] Finished initializing a Rank Prompt Learner.\n",
      "A prompt learner of rank is loaded.\n",
      "[PromptAdapter] loaded initial texts from tools/survival_text_prototypes.json: ['Abnormalities in the size, shape, and organization of tumor cells. High degrees of atypia are associated with more aggressive tumors.', 'Variation in the size and shape of the nuclei within tumor cells. Pronounced pleomorphism typically indicates a higher grade and more aggressive cancer.', 'The presence and frequency of cell division figures (mitoses) within the tumor. High mitotic activity suggests rapid tumor growth and a poorer prognosis.', 'The structural arrangement of the tumor, such as solid or mixed patterns.', 'Tumor cells invade deep into the bladder wall layers, especially into detrusor muscle or muscularis propria, perivesical fat and beyond.', 'Tumor cells within blood vessels or lymphatic channels.', 'Areas of dead (necrotic) tumor cells within the tissue. Necrosis often appears as regions lacking viable cells and can indicate rapid tumor growth outpacing its blood supply.', 'Tumor cells surrounding or invading nerves.', 'Dense fibrous or connective tissue growth around the tumor indicates an aggressive response to the tumor, often seen in high-grade cancers.', 'Tumor cells penetrate the surrounding stroma, muscle, or other tissues, lack of a clear demarcation between the tumor and the normal tissue, known as poorly defined tumor margins.', 'Formation of new blood vessels within the tumor, necessary for tumor growth and spread. High levels of angiogenesis indicate a more aggressive tumor.', 'Presence of areas of flat, high-grade, non-invasive cancer, known as carcinoma in situ, identified by high-grade cellular atypia, disorganized epithelial structure, increased and atypical mitotic activity, loss of normal epithelial architecture, and absence of umbrella cells.'].\n",
      "[PromptAdapter] initialized a PromptAdapter with method (TaskRes).\n",
      "A prompt adapter is loaded.\n",
      "[LVFAN] Q (query) is reset to a network.\n",
      "[setup] VLSA with prompt_learner (CoOp): freezing text_encoder.\n"
     ]
    }
   ],
   "source": [
    "from utils.model_inference import load_vlsa_model\n",
    "from utils.io import read_patch_data\n",
    "\n",
    "# load patch features \n",
    "wsi_feats = read_patch_data(path_wsi, dtype='torch')\n",
    "print(\"\\nLoaded the patch features of one WSI: {} x {}.\\n\".format(wsi_feats.shape[0], wsi_feats.shape[1]))\n",
    "\n",
    "# load model\n",
    "model, cfg = load_vlsa_model(run_path, CUDA_ID, return_cfg=True)"
   ]
  },
  {
   "cell_type": "code",
   "execution_count": 4,
   "id": "17261836-bd70-4a1f-aa3b-71e07160196d",
   "metadata": {},
   "outputs": [],
   "source": [
    "import torch\n",
    "\n",
    "X = wsi_feats.to(next(model.parameters()).device)\n",
    "\n",
    "# load essential variables (logit_scale) from the VLSA model\n",
    "model.eval()\n",
    "with torch.no_grad():\n",
    "    logit_scale = model.get_logit_scale()\n",
    "\n",
    "logit_scale = logit_scale.detach().item()\n",
    "coattn_logit_scale = model.mil_encoder.get_coattn_logit_scale().item() # with exp"
   ]
  },
  {
   "cell_type": "markdown",
   "id": "1a45bdc4-b5c8-46d9-bd08-0c83c66558c3",
   "metadata": {},
   "source": [
    "### Get visual features and textual prompt features"
   ]
  },
  {
   "cell_type": "markdown",
   "id": "f1192c57-7417-4724-89cf-ce2bd369f3d0",
   "metadata": {},
   "source": [
    "calculate textual prompt features"
   ]
  },
  {
   "cell_type": "code",
   "execution_count": 5,
   "id": "9307685f-5b04-4aa0-b70c-99fac65f28c8",
   "metadata": {},
   "outputs": [
    {
     "name": "stdout",
     "output_type": "stream",
     "text": [
      "Textual prompt features: 12 x 512\n",
      "\tthe number of textual prompts: 12\n",
      "\tthe dim of textual prompt features: 512\n"
     ]
    }
   ],
   "source": [
    "import torch.nn.functional as F\n",
    "\n",
    "with torch.no_grad():\n",
    "    text_features = model.forward_text_only()\n",
    "    norm_text_features = F.normalize(text_features, dim=-1) # [num_ranks, emb_dim]\n",
    "\n",
    "text_features = text_features.detach()\n",
    "norm_text_features = norm_text_features.detach()\n",
    "print(\"Textual prompt features: {} x {}\".format(text_features.shape[0], text_features.shape[1]))\n",
    "print(\"\\tthe number of textual prompts: {}\".format(text_features.shape[0]))\n",
    "print(\"\\tthe dim of textual prompt features: {}\".format(text_features.shape[1]))"
   ]
  },
  {
   "cell_type": "markdown",
   "id": "d02d1707-1148-44a5-8bb4-82c004758942",
   "metadata": {},
   "source": [
    "Next, we \n",
    "- calculate visual features (i.e., WSI-level visual representation)\n",
    "- and measure the similarity between visual features and a group of textual prompt features."
   ]
  },
  {
   "cell_type": "code",
   "execution_count": 6,
   "id": "f572e07f-0077-4bd8-a090-b07fc20d594c",
   "metadata": {},
   "outputs": [
    {
     "name": "stdout",
     "output_type": "stream",
     "text": [
      "Predicted incidence function (model forword pass): tensor([[0.4904, 0.2488, 0.1200, 0.0419, 0.0143, 0.0079, 0.0047, 0.0031, 0.0038,\n",
      "         0.0071, 0.0167, 0.0412]])\n"
     ]
    }
   ],
   "source": [
    "with torch.no_grad():\n",
    "    # Approach 1 = a direct way = model's forward process \n",
    "    X = X.unsqueeze(0) # [1, N, d]\n",
    "    # here we use language-encoded prognostic priors as queries in cross-attention to learn WSI-level representation\n",
    "    image_feature, cottn_score = model.mil_encoder(X, ret_with_attn=True) \n",
    "    L_image_feature = image_feature.norm(dim=-1) # [1, emb_dim]\n",
    "    norm_image_feature = image_feature / L_image_feature # [1, emb_dim]\n",
    "    img_txt_similarities = norm_image_feature @ norm_text_features.t() # [1, num_ranks]\n",
    "    probs = F.softmax(logit_scale * img_txt_similarities, dim=-1) # [1, num_ranks], the predicted incidence function\n",
    "\n",
    "probs = probs.detach().cpu()\n",
    "print(\"Predicted incidence function (model forword pass):\", probs)"
   ]
  },
  {
   "cell_type": "markdown",
   "id": "8b9471bb-5c54-4a49-b9a2-e2173a7e9972",
   "metadata": {},
   "source": [
    "### Plot individual incidence function prediction"
   ]
  },
  {
   "cell_type": "markdown",
   "id": "8a0e1c46-2bc4-4737-97e5-214c3177ebed",
   "metadata": {},
   "source": [
    "visualize the predicted IF (incident function) and survival function"
   ]
  },
  {
   "cell_type": "code",
   "execution_count": 7,
   "id": "ae5295ff-fa15-4212-8633-f61a2102cdc2",
   "metadata": {},
   "outputs": [
    {
     "data": {
      "image/png": "[encoded data removed]",
      "text/plain": [
       "<Figure size 415x400 with 1 Axes>"
      ]
     },
     "metadata": {},
     "output_type": "display_data"
    }
   ],
   "source": [
    "from utils.visualization import get_survival_plot\n",
    "\n",
    "survival_plot = get_survival_plot(probs)\n",
    "survival_plot.set_dpi(100)\n",
    "survival_plot.patch.set_facecolor('white')\n",
    "display(survival_plot)"
   ]
  },
  {
   "cell_type": "markdown",
   "id": "7a26eb3f-039b-425c-af05-ed96f4d2235a",
   "metadata": {},
   "source": [
    "### Interpreting the prediction of VLSA (shown in Figure 2, the left one in the paper)\n",
    "\n",
    "Our interpretation approach is based on [**Shapley values**](https://en.wikipedia.org/wiki/Shapley_value). Specifically, we\n",
    "- first calculate the vision-language similarity **decoupled along the query dimension in cross-attention**;\n",
    "- and then use it to calculate the Shapley values of **the introduced language-encoded priors**."
   ]
  },
  {
   "cell_type": "code",
   "execution_count": 8,
   "id": "8e951020-13f1-46b9-86b9-5f8912fcbedc",
   "metadata": {},
   "outputs": [
    {
     "name": "stdout",
     "output_type": "stream",
     "text": [
      "Predicted incidence function (decoupled forword pass): tensor([[0.4904, 0.2488, 0.1200, 0.0418, 0.0143, 0.0079, 0.0047, 0.0031, 0.0038,\n",
      "         0.0071, 0.0167, 0.0412]])\n",
      "[SHAP] Risk = Base + SHAP: 10.523673057556152 = 1 + 9.523673057556152.\n",
      "[SHAP] SHAP values (contribution to risk) over prototypes:\n",
      "\ttensor([ 1.2516,  1.5317,  1.0909,  1.0213,  0.0532,  1.1087,  0.4945,  0.5926,\n",
      "        -0.4723,  0.2201,  1.3658,  1.2655])\n"
     ]
    }
   ],
   "source": [
    "from utils.model_inference import evaluate_prototype_shap_imp\n",
    "\n",
    "with torch.no_grad():\n",
    "    # Approach 2 = a decoupled way, which leads to the same result as Approach 1\n",
    "    enc_X = model.mil_encoder.visual_adapter(X) # [1, N, d]\n",
    "    norm_enc_X = enc_X.squeeze(0) / L_image_feature # [N, d]\n",
    "    cottn_score = cottn_score.squeeze(0) # [P, N]\n",
    "    decoupled_img_txt_similarities = cottn_score @ (norm_enc_X @ norm_text_features.t()) # [P, N] @ [N, num_ranks] -> [P, num_ranks]\n",
    "    probs_2 = F.softmax(logit_scale * decoupled_img_txt_similarities.mean(dim=0, keepdims=True), dim=-1) # [1, num_ranks]\n",
    "\n",
    "probs_2 = probs_2.detach().cpu()\n",
    "print(\"Predicted incidence function (decoupled forword pass):\", probs_2)\n",
    "decoupled_img_txt_similarities = decoupled_img_txt_similarities.detach().cpu()\n",
    "decoupled_shap_imp = evaluate_prototype_shap_imp(decoupled_img_txt_similarities, logit_scale)\n",
    "print(f\"[SHAP] Risk = Base + SHAP: {1+decoupled_shap_imp.sum().item()} = {1} + {decoupled_shap_imp.sum().item()}.\")\n",
    "print(\"[SHAP] SHAP values (contribution to risk) over prototypes:\")\n",
    "print(\"\\t{}\".format(decoupled_shap_imp))"
   ]
  },
  {
   "cell_type": "markdown",
   "id": "d543feaa-d61e-4d45-9189-e892c9ef88b1",
   "metadata": {},
   "source": [
    "### Plot each prior's contribution to overall risk (reproducing Figure 2, left one)\n",
    "\n",
    "The prognostic language priors used for BLCA (also provided in `./tools/survival_text_prototypes.json`) are as follows:\n",
    "- P1: 'Abnormalities in the size, shape, and organization of tumor cells. High degrees of atypia are associated with more aggressive tumors.'\n",
    "- P2: 'Variation in the size and shape of the nuclei within tumor cells. Pronounced pleomorphism typically indicates a higher grade and more aggressive cancer.'\n",
    "- P3: 'The presence and frequency of cell division figures (mitoses) within the tumor. High mitotic activity suggests rapid tumor growth and a poorer prognosis.'\n",
    "- P4: 'The structural arrangement of the tumor, such as solid or mixed patterns.'\n",
    "- P5: 'Tumor cells invade deep into the bladder wall layers, especially into detrusor muscle or muscularis propria, perivesical fat and beyond.'\n",
    "- P6: 'Tumor cells within blood vessels or lymphatic channels.'\n",
    "- P7: 'Areas of dead (necrotic) tumor cells within the tissue. Necrosis often appears as regions lacking viable cells and can indicate rapid tumor growth outpacing its blood supply.'\n",
    "- P8: 'Tumor cells surrounding or invading nerves.'\n",
    "- P9: 'Dense fibrous or connective tissue growth around the tumor indicates an aggressive response to the tumor, often seen in high-grade cancers.'\n",
    "- P10: 'Tumor cells penetrate the surrounding stroma, muscle, or other tissues, lack of a clear demarcation between the tumor and the normal tissue, known as poorly defined tumor margins.'\n",
    "- P11: 'Formation of new blood vessels within the tumor, necessary for tumor growth and spread. High levels of angiogenesis indicate a more aggressive tumor.'\n",
    "- P12: 'Presence of areas of flat, high-grade, non-invasive cancer, known as carcinoma in situ, identified by high-grade cellular atypia, disorganized epithelial structure, increased and atypical mitotic activity, loss of normal epithelial architecture, and absence of umbrella cells.'"
   ]
  },
  {
   "cell_type": "code",
   "execution_count": 9,
   "id": "63095d1a-77b5-407e-bba2-dfdf223cdae3",
   "metadata": {},
   "outputs": [
    {
     "data": {
      "image/png": "[encoded data removed]",
      "text/plain": [
       "<Figure size 500x300 with 1 Axes>"
      ]
     },
     "metadata": {},
     "output_type": "display_data"
    }
   ],
   "source": [
    "from utils.visualization import get_mixture_plot\n",
    "\n",
    "# Visualization codes are partially adapted from PANTHER\n",
    "imp_plot = get_mixture_plot(decoupled_shap_imp, ticks_step=0.5)\n",
    "imp_plot.set_dpi(100)\n",
    "imp_plot.patch.set_facecolor('white')\n",
    "display(imp_plot)"
   ]
  }
 ],
 "metadata": {
  "kernelspec": {
   "display_name": "Python 3 (ipykernel)",
   "language": "python",
   "name": "python3"
  },
  "language_info": {
   "codemirror_mode": {
    "name": "ipython",
    "version": 3
   },
   "file_extension": ".py",
   "mimetype": "text/x-python",
   "name": "python",
   "nbconvert_exporter": "python",
   "pygments_lexer": "ipython3",
   "version": "3.8.12"
  }
 },
 "nbformat": 4,
 "nbformat_minor": 5
}
